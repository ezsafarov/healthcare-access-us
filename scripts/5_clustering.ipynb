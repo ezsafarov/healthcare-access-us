{
 "cells": [
  {
   "cell_type": "markdown",
   "id": "a7750262-2d13-4fb5-88b8-adfc88c2dc6a",
   "metadata": {},
   "source": [
    "## Task 6.5: Unsupervised Machine Learning: Clustering\n",
    "\n",
    "Part 1. Importing and data checking. \n",
    "\n",
    "Part 2. Elbow curve\n",
    "\n",
    "Part 3. Clustering\n",
    "\n",
    "Part 4. Updated conclution"
   ]
  },
  {
   "cell_type": "markdown",
   "id": "a51c73ee-4c4e-4358-991d-d9ace8cb7d68",
   "metadata": {},
   "source": [
    "### Part 1\n",
    "#### Importing libraries"
   ]
  },
  {
   "cell_type": "code",
   "execution_count": null,
   "id": "404fd3f5-5dad-48c9-a129-4e3c13f7dee0",
   "metadata": {},
   "outputs": [],
   "source": [
    "import pandas as pd\n",
    "import numpy as np\n",
    "import seaborn as sns\n",
    "import matplotlib\n",
    "import matplotlib.pyplot as plt\n",
    "import os\n",
    "import sklearn\n",
    "from sklearn.model_selection import train_test_split \n",
    "from sklearn.linear_model import LinearRegression\n",
    "from sklearn.metrics import mean_squared_error, r2_score\n",
    "print(\"All libraries are ok\")"
   ]
  },
  {
   "cell_type": "code",
   "execution_count": null,
   "id": "30a8c8c4-e398-4cd5-98f2-c373da9f9316",
   "metadata": {},
   "outputs": [],
   "source": [
    "# This option ensures that the graphs you create are displayed within the notebook without the need to \"call\" them specifically.\n",
    "\n",
    "%matplotlib inline"
   ]
  },
  {
   "cell_type": "code",
   "execution_count": null,
   "id": "81705775-feb0-4f8c-ba17-ae07a2c5faa2",
   "metadata": {},
   "outputs": [],
   "source": [
    "# Getting the file #setting the path to get the file\n",
    "\n",
    "file = '/Users/emilsafarov/Library/CloudStorage/OneDrive-Personal/CF/A6_Healthcare_Access_US/1_sourceing_open_data/US project/Data/Output/final_dataset_v3.csv'\n",
    "\n",
    "# reading the file\n",
    "df = pd.read_csv(file)\n",
    "\n",
    "# checing the file \n",
    "\n",
    "df.head(5)"
   ]
  },
  {
   "cell_type": "markdown",
   "id": "a5e5fc63-2dd4-4dad-881e-774b6439a543",
   "metadata": {},
   "source": [
    "To explore the relationship visually, a unified measure of healthcare access was created. Five indicators—PC Physicians, Mental Health Providers, Dentists, Flu Vaccination, and Mammography Screening—were standardized using z-score transformation. This method adjusted each variable to a mean of zero and standard deviation of one, ensuring comparability across different units and scales. Standardization eliminated scale bias and allowed each indicator to contribute equally to the overall score."
   ]
  },
  {
   "cell_type": "code",
   "execution_count": null,
   "id": "6b938a37-b952-4820-8974-531bc7ca755d",
   "metadata": {},
   "outputs": [],
   "source": [
    "healthcare_columns = [\n",
    "    # 🏥 Healthcare Access & Resources\n",
    "    \"primary_care_physicians__primary_care_physicians_mean\",\n",
    "    \"mental_health_providers_raw_val__mental_health_providers_mean\",\n",
    "    \"dentists_raw_value__dentists_mean\",\n",
    "    \"flu_vaccinations_raw_value__flu_vaccinations_mean\",\n",
    "    \"mammography_screening__mammography_screening_mean\"]\n",
    "\n",
    "# Standardize healthcare-related variables using z-score transformation\n",
    "# Z-score formula: z = (x - mean) / standard deviation\n",
    "# This rescales each variable to have a mean of 0 and a standard deviation of 1,\n",
    "# ensuring comparability across different units (e.g., per capita counts vs. percentages)\n",
    "\n",
    "from scipy.stats import zscore\n",
    "\n",
    "# Apply z-score standardization to each column\n",
    "df_scaled_healthcare = df[healthcare_columns].apply(zscore)\n",
    "\n",
    "# (Optional) Rename columns to indicate they are standardized\n",
    "df_scaled_healthcare.columns = [col + \" (z-score)\" for col in df_scaled_healthcare.columns]"
   ]
  },
  {
   "cell_type": "code",
   "execution_count": null,
   "id": "1e649dbc-e7e0-4771-818c-510701f5e09e",
   "metadata": {},
   "outputs": [],
   "source": [
    "# Define policy-aligned weights for each z-scored healthcare indicator\n",
    "# Values chosen based on public health emphasis (e.g., WHO, CDC, AHRQ priorities)\n",
    "\n",
    "weights = {\n",
    "    \"primary_care_physicians__primary_care_physicians_mean (z-score)\": 0.30,   # Core access point in all health systems\n",
    "    \"mental_health_providers_raw_val__mental_health_providers_mean (z-score)\": 0.25,  # Underserved and critical post-pandemic\n",
    "    \"dentists_raw_value__dentists_mean (z-score)\": 0.20,  # Preventive care with medium priority\n",
    "    \"flu_vaccinations_raw_value__flu_vaccinations_mean (z-score)\": 0.15,  # Population-level disease prevention\n",
    "    \"mammography_screening__mammography_screening_mean (z-score)\": 0.10  # Targeted screening (age and gender-specific)\n",
    "}\n",
    "\n",
    "# Apply the weights to each standardized column\n",
    "df_weighted_healthcare = df_scaled_healthcare.copy()\n",
    "for col in df_weighted_healthcare.columns:\n",
    "    df_weighted_healthcare[col] = df_weighted_healthcare[col] * weights[col]\n",
    "\n",
    "# Calculate the final composite score (weighted average of z-scores)\n",
    "df[\"Healthcare Access (Weighted Z-score Composite)\"] = df_weighted_healthcare.sum(axis=1)\n"
   ]
  },
  {
   "cell_type": "code",
   "execution_count": null,
   "id": "eb5ea35e-2ee5-42c6-b424-94dffbed7abe",
   "metadata": {},
   "outputs": [],
   "source": [
    "# Creating a sub-dataset under the main df \n",
    "# Organized into thematic categories: Healthcare Access, Socioeconomic, Environmental\n",
    "\n",
    "selected_columns = [\n",
    "    # Healthcare Access & Resources\n",
    "    \"Healthcare Access (Weighted Z-score Composite)\",                # Dependent(y) variabl \n",
    "    \"uninsured_raw_value__uninsured_mean\",                          # Included cautiously; typically an outcome variable\n",
    "\n",
    "    # Socioeconomic Predictors\n",
    "    \"median_income__median_income_mean\",\n",
    "    \"children_poverty__children_poverty_mean\",\n",
    "    \"unemployment__unemployment_mean\",\n",
    "    \"income_inequality__income_inequality_mean\",\n",
    "    \"Diversity Index\",\n",
    "\n",
    "    # Environmental & Lifestyle Predictors\n",
    "    \"exercise_access__exercise_access_mean\",\n",
    "    \"food_insecurity__food_insecurity_mean\"  # Included for now; will monitor collinearity with Child Poverty\n",
    "]\n",
    "\n",
    "# Rename columns for better readability\n",
    "df_healthcare_predictors = df[selected_columns].rename(columns={\n",
    "    \"Healthcare Access (Weighted Z-score Composite)\": \"Healthcare Access Score\",\n",
    "    \"uninsured_raw_value__uninsured_mean\": \"Uninsured\",\n",
    "    \"median_income__median_income_mean\": \"Median Income\",\n",
    "    \"children_poverty__children_poverty_mean\": \"Child Poverty\",\n",
    "    \"unemployment__unemployment_mean\": \"Unemployment\",\n",
    "    \"income_inequality__income_inequality_mean\": \"Income Inequality\",\n",
    "    \"Diversity Index\": \"Diversity Index\",\n",
    "    \"exercise_access__exercise_access_mean\": \"Exercise Access\",\n",
    "    \"food_insecurity__food_insecurity_mean\": \"Food Insecurity\"\n",
    "})\n",
    "\n",
    "df_healthcare_predictors.reset_index(drop=True, inplace=True)\n",
    "\n",
    "df_healthcare_predictors.head() "
   ]
  },
  {
   "cell_type": "code",
   "execution_count": null,
   "id": "f7db7942-7c44-47bd-aac8-0a393808d551",
   "metadata": {},
   "outputs": [],
   "source": [
    "# Standardizing the selected healthcare-related predictors to ensure all features \n",
    "# contribute equally to the k-means algorithm. This is necessary because k-means \n",
    "# relies on distance calculations, and unscaled variables with larger ranges \n",
    "# (like income) can bias the results.\n",
    "\n",
    "from sklearn.preprocessing import StandardScaler\n",
    "\n",
    "# Step 1: Define the features to scale\n",
    "features = ['Uninsured', 'Median Income', 'Child Poverty', 'Unemployment',\n",
    "            'Income Inequality', 'Diversity Index', 'Exercise Access', 'Food Insecurity']\n",
    "\n",
    "# Step 2: Initialize the scaler\n",
    "scaler = StandardScaler()\n",
    "\n",
    "# Step 3: Fit and transform the selected features\n",
    "scaled_features = scaler.fit_transform(df_healthcare_predictors[features])\n",
    "\n",
    "# Step 4: Convert back to DataFrame and include 'Healthcare Access Score'\n",
    "df_scaled = pd.DataFrame(scaled_features, columns=features)\n",
    "df_scaled['Healthcare Access Score'] = df_healthcare_predictors['Healthcare Access Score'].values\n",
    "\n",
    "# creating df_healthcare_predictors_scaled = df_hps with the conbination of df_scaled and already exsisting column\n",
    "# \"Healthcare Access Score\" from df_healthcare_predictors datagram"
   ]
  },
  {
   "cell_type": "code",
   "execution_count": null,
   "id": "3092446f-ed7e-4fd2-909d-3ccff6980b83",
   "metadata": {},
   "outputs": [],
   "source": [
    "df_hps = df_scaled"
   ]
  },
  {
   "cell_type": "code",
   "execution_count": null,
   "id": "807e6742-0ac6-41c0-bb3f-768399c3fb86",
   "metadata": {},
   "outputs": [],
   "source": [
    "df_hps.head()"
   ]
  },
  {
   "cell_type": "code",
   "execution_count": null,
   "id": "184c0d13-8146-4326-9af1-84a67daab3cd",
   "metadata": {},
   "outputs": [],
   "source": [
    "df_hps.corr().round(3)"
   ]
  },
  {
   "cell_type": "code",
   "execution_count": null,
   "id": "6dd846ce-12f7-4d73-966e-954d2c437143",
   "metadata": {},
   "outputs": [],
   "source": [
    "# Step 1: Manually input correlation values (from df_hps.corr().round(3))\n",
    "corr_income = 0.419\n",
    "corr_exercise = 0.553\n",
    "\n",
    "# Step 2: Normalize the correlation values to get weights\n",
    "total = corr_income + corr_exercise\n",
    "w_income = corr_income / total     # ≈ 0.431\n",
    "w_exercise = corr_exercise / total # ≈ 0.569\n",
    "\n",
    "# Step 3: Create the weighted combination of the two predictors\n",
    "df_hps[\"Combined Score: Income + Exercise\"] = (\n",
    "    w_income * df_hps['Median Income'] +\n",
    "    w_exercise * df_hps['Exercise Access']\n",
    ")\n"
   ]
  },
  {
   "cell_type": "markdown",
   "id": "2545dcf8-d272-4986-8f54-64aba0e486ce",
   "metadata": {},
   "source": [
    "### Part 2 \n",
    "#### Elbow curve "
   ]
  },
  {
   "cell_type": "code",
   "execution_count": null,
   "id": "3962cb0b-fd77-4410-b771-d3d0cc032770",
   "metadata": {},
   "outputs": [],
   "source": [
    "from sklearn.cluster import KMeans\n",
    "\n",
    "# Step 1: Define the range of cluster numbers to try\n",
    "num_cl = range(1, 10)\n",
    "\n",
    "# Step 2: Create a list of KMeans models, one for each k\n",
    "kmeans = [KMeans(n_clusters=i, random_state=42) for i in num_cl]\n",
    "\n",
    "# Step 3: Fit each model to your scaled healthcare data\n",
    "score = [kmeans[i].fit(df_scaled).score(df_scaled) for i in range(len(kmeans))]\n"
   ]
  },
  {
   "cell_type": "code",
   "execution_count": null,
   "id": "98e5d934-1ecd-4ee8-bc52-e59354507240",
   "metadata": {},
   "outputs": [],
   "source": [
    "score"
   ]
  },
  {
   "cell_type": "code",
   "execution_count": null,
   "id": "46b98eb2-df74-4db3-9d3f-6e82023dfdb2",
   "metadata": {},
   "outputs": [],
   "source": [
    "import matplotlib.pyplot as plt\n",
    "\n",
    "plt.plot(num_cl, score)\n",
    "plt.xlabel(\"Number of Clusters\")\n",
    "plt.ylabel(\"Score\")  # fixed typo here\n",
    "plt.title(\"Elbow Curve\")\n",
    "plt.show()\n"
   ]
  },
  {
   "cell_type": "markdown",
   "id": "85b71ef8-5c2f-4b12-a37b-eacaa7c5cd42",
   "metadata": {},
   "source": [
    "### Part 3 \n",
    "#### Clustering"
   ]
  },
  {
   "cell_type": "code",
   "execution_count": null,
   "id": "c07bea78-fc39-457a-a2f0-bc7852ac8dda",
   "metadata": {},
   "outputs": [],
   "source": [
    "# Creating k-means object based on # 5 (also might be 6)\n",
    "\n",
    "kmeans = KMeans(n_clusters = 5)"
   ]
  },
  {
   "cell_type": "code",
   "execution_count": null,
   "id": "041f51cb-7cd9-4916-81d8-7f148da641b6",
   "metadata": {},
   "outputs": [],
   "source": [
    "# fitting the object to df\n",
    "\n",
    "kmeans.fit(df_hps)"
   ]
  },
  {
   "cell_type": "code",
   "execution_count": null,
   "id": "17040c44-3147-4ca7-abd4-5758066333d0",
   "metadata": {},
   "outputs": [],
   "source": [
    "df_hps[\"Clusters\"] = kmeans.fit_predict(df_hps)"
   ]
  },
  {
   "cell_type": "code",
   "execution_count": null,
   "id": "558243f7-babd-45a4-82ae-cd525c3e4df1",
   "metadata": {},
   "outputs": [],
   "source": [
    "df_hps.head(10)"
   ]
  },
  {
   "cell_type": "code",
   "execution_count": null,
   "id": "0f7c9649-e379-412e-a6df-6505d93fbf6b",
   "metadata": {},
   "outputs": [],
   "source": [
    "df_hps[\"Clusters\"].value_counts()"
   ]
  },
  {
   "cell_type": "code",
   "execution_count": null,
   "id": "3cfb1264-b79e-4068-97b0-372b454ad715",
   "metadata": {},
   "outputs": [],
   "source": [
    "# Ploting different conbinations\n",
    "\n",
    "# Healcare Access Score vs Median Income\n",
    "\n",
    "plt.figure(figsize=(12, 8))\n",
    "\n",
    "# Scatterplot for Healthcare Access vs Median Income\n",
    "ax = sns.scatterplot(\n",
    "    y=df_hps['Healthcare Access Score'],\n",
    "    x=df_hps['Median Income'],\n",
    "    hue=df_hps['Clusters'],  # uses the cluster labels from KMeans\n",
    "    palette='Set1',         # optional: improves color distinction\n",
    "    s=40                   # size of the points\n",
    ")\n",
    "\n",
    "ax.grid(False)  # Removes the background grid\n",
    "\n",
    "# Axis labels\n",
    "plt.ylabel('Healthcare Access Score')\n",
    "plt.xlabel('Median Income')\n",
    "plt.title('Clusters: Healthcare Access vs. Median Income')\n",
    "\n",
    "plt.show()\n"
   ]
  },
  {
   "cell_type": "code",
   "execution_count": null,
   "id": "3860951c-0653-42e9-bf47-2b8c32322b23",
   "metadata": {},
   "outputs": [],
   "source": [
    "plt.figure(figsize=(12, 8))\n",
    "\n",
    "# Scatterplot for Healthcare Access vs Exercise Access\n",
    "ax = sns.scatterplot(\n",
    "    y=df_hps['Healthcare Access Score'],\n",
    "    x=df_hps['Exercise Access'],\n",
    "    hue=df_hps['Clusters'],  # cluster labels\n",
    "    palette='Set1',\n",
    "    s=40\n",
    ")\n",
    "\n",
    "ax.grid(False)\n",
    "\n",
    "# Axis labels\n",
    "plt.ylabel('Healthcare Access Score')\n",
    "plt.xlabel('Exercise Access')\n",
    "plt.title('Clusters: Healthcare Access vs. Exercise Access')\n",
    "\n",
    "plt.show()\n"
   ]
  },
  {
   "cell_type": "code",
   "execution_count": null,
   "id": "ea22103d-5ab2-499e-ae2e-8e73ecb150d9",
   "metadata": {},
   "outputs": [],
   "source": [
    "import matplotlib.pyplot as plt\n",
    "import seaborn as sns\n",
    "\n",
    "plt.figure(figsize=(10, 6))\n",
    "\n",
    "# Scatterplot of Combined Score vs. Healthcare Access Score\n",
    "sns.scatterplot(\n",
    "    x=df_hps['Combined Score: Income + Exercise'],\n",
    "    y=df_hps['Healthcare Access Score'],\n",
    "    hue=df_hps['Clusters'],  # Optional: only if clustering labels are available\n",
    "    palette='Set1',\n",
    "    s=30,\n",
    "    alpha=0.5  # Lower opacity\n",
    ")\n",
    "\n",
    "plt.title(\"Healthcare Access vs. Combined Income & Exercise Score\")\n",
    "plt.xlabel(\"Combined Score (Income + Exercise Access)\")\n",
    "plt.ylabel(\"Healthcare Access Score\")\n",
    "plt.grid(False)\n",
    "plt.tight_layout()\n",
    "plt.show()\n"
   ]
  },
  {
   "cell_type": "code",
   "execution_count": null,
   "id": "424867f4-c2bc-470d-98e5-bdae0e99711a",
   "metadata": {},
   "outputs": [],
   "source": [
    "plt.figure(figsize=(10, 6))\n",
    "\n",
    "# Scatterplot with regression line\n",
    "sns.regplot(\n",
    "    x=df_hps['Combined Score: Income + Exercise'],\n",
    "    y=df_hps['Healthcare Access Score'],\n",
    "    scatter_kws={'s': 40, 'color': 'gray'},\n",
    "    line_kws={'color': 'blue', 'linewidth': 2}\n",
    ")\n",
    "\n",
    "plt.title(\"Linear Relationship: Combined Score vs. Healthcare Access\")\n",
    "plt.xlabel(\"Combined Score (Income + Exercise Access)\")\n",
    "plt.ylabel(\"Healthcare Access Score\")\n",
    "plt.grid(False)\n",
    "plt.tight_layout()\n",
    "plt.show()\n"
   ]
  },
  {
   "cell_type": "code",
   "execution_count": null,
   "id": "cf4c14aa-1b29-467a-bebc-a1f414c49ea6",
   "metadata": {},
   "outputs": [],
   "source": [
    "df_hps.loc[df_hps['Clusters'] == 4, 'Cluster_color'] = 'Orange'\n",
    "df_hps.loc[df_hps['Clusters'] == 3, 'Cluster_color'] = 'Purple'\n",
    "df_hps.loc[df_hps['Clusters'] == 2, 'Cluster_color'] = 'Green'\n",
    "df_hps.loc[df_hps['Clusters'] == 1, 'Cluster_color'] = 'Blue'\n",
    "df_hps.loc[df_hps['Clusters'] == 0, 'Cluster_color'] = 'Red'"
   ]
  },
  {
   "cell_type": "code",
   "execution_count": null,
   "id": "3eb915a7-5b6e-471c-b230-ff5ef5fa8534",
   "metadata": {},
   "outputs": [],
   "source": [
    "grouped_df = df_hps.groupby('Cluster_color').agg({\n",
    "    'Uninsured': ['mean'],\n",
    "    'Median Income': ['mean'],\n",
    "    'Child Poverty': ['mean'],\n",
    "    'Unemployment': ['mean'],\n",
    "    'Income Inequality': ['mean'],\n",
    "    'Diversity Index': ['mean'],\n",
    "    'Exercise Access': ['mean'],\n",
    "    'Food Insecurity': ['mean'],\n",
    "    'Healthcare Access Score': ['mean']\n",
    "})\n"
   ]
  },
  {
   "cell_type": "code",
   "execution_count": null,
   "id": "82b61763-e1f9-4a47-858a-31dee99a8087",
   "metadata": {},
   "outputs": [],
   "source": [
    "grouped_df = grouped_df.round(2)\n",
    "grouped_df"
   ]
  },
  {
   "cell_type": "code",
   "execution_count": null,
   "id": "ddf1aafa-22a8-431a-ad62-f7fafe350eb8",
   "metadata": {},
   "outputs": [],
   "source": [
    "# Only keep the 'mean' level from the multi-level columns\n",
    "mean_df = grouped_df.xs('mean', axis=1, level=1)\n",
    "\n",
    "# Calculate correlation matrix\n",
    "corr_matrix = mean_df.corr()\n",
    "\n",
    "# Plot the heatmap\n",
    "plt.figure(figsize=(10, 10))\n",
    "sns.heatmap(\n",
    "    corr_matrix,\n",
    "    annot=True,\n",
    "    fmt=\".2f\",\n",
    "    cmap=\"coolwarm\",\n",
    "    square=True,\n",
    "    cbar_kws={\"shrink\": 0.8}\n",
    ")\n",
    "\n",
    "plt.title(\"Correlation Matrix of Cluster Means\", fontsize=14)\n",
    "plt.xticks(rotation=45, ha='right')\n",
    "plt.yticks(rotation=0)\n",
    "plt.tight_layout()\n",
    "plt.show()\n"
   ]
  },
  {
   "cell_type": "code",
   "execution_count": null,
   "id": "7e77b057-b92b-4205-b518-d4dd97cc6252",
   "metadata": {},
   "outputs": [],
   "source": [
    "# Define the updated grouped_df using actual values\n",
    "grouped_df = pd.DataFrame({\n",
    "    'Uninsured': [-0.397902, -0.543269, 1.203235, -0.439616, 0.419255],\n",
    "    'Median Income': [0.260081, 1.539922, -0.448048, -0.372245, -1.150279],\n",
    "    'Child Poverty': [-0.682097, -0.985769, 0.488263, 0.167991, 1.769116],\n",
    "    'Unemployment': [-0.730302, -0.196805, -0.225307, 0.584774, 1.276333],\n",
    "    'Income Inequality': [-0.679115, -0.277183, 0.189672, 0.049841, 1.582620],\n",
    "    'Diversity Index': [-0.754979, 0.659012, 0.623806, -0.455556, 0.745499],\n",
    "    'Exercise Access': [-0.186464, 1.142738, -0.431512, 0.173656, -0.649840],\n",
    "    'Food Insecurity': [-0.773205, -0.895123, 0.476061, 0.314980, 1.598664],\n",
    "    'Healthcare Access Score': [-0.054132, 0.760178, -0.349304, 0.040969, -0.342689]\n",
    "}, index=['Blue', 'Green', 'Orange', 'Purple', 'Red'])\n",
    "\n",
    "# Define cluster color map\n",
    "color_map = {\n",
    "    'Red': '#e41a1c',\n",
    "    'Green': '#4daf4a',\n",
    "    'Orange': '#ff7f00',\n",
    "    'Purple': '#984ea3',\n",
    "    'Blue': '#377eb8'\n",
    "}\n",
    "\n",
    "# Plot radar chart with fixed color legend\n",
    "def plot_radar(df, title='Radar Chart of Cluster Means'):\n",
    "    labels = df.columns\n",
    "    num_vars = len(labels)\n",
    "    angles = np.linspace(0, 2 * np.pi, num_vars, endpoint=False).tolist()\n",
    "    angles += angles[:1]\n",
    "\n",
    "    fig, ax = plt.subplots(figsize=(8, 8), subplot_kw=dict(polar=True))\n",
    "\n",
    "    for index, row in df.iterrows():\n",
    "        values = row.tolist() + [row.tolist()[0]]\n",
    "        ax.plot(angles, values, label=index, color=color_map[index])\n",
    "        ax.fill(angles, values, color=color_map[index], alpha=0.1)\n",
    "\n",
    "    ax.set_title(title, size=14)\n",
    "    ax.set_theta_offset(np.pi / 2)\n",
    "    ax.set_theta_direction(-1)\n",
    "    ax.set_thetagrids(np.degrees(angles[:-1]), labels)\n",
    "    ax.legend(loc='upper right', bbox_to_anchor=(1.2, 1.1))\n",
    "    plt.tight_layout()\n",
    "    plt.show()\n",
    "\n",
    "# Plot bar chart with matching colors\n",
    "def plot_bar(df, title='Bar Chart of Cluster Means'):\n",
    "    df.T.plot(kind='bar', figsize=(12, 6), color=[color_map[c] for c in df.index])\n",
    "    plt.title(title)\n",
    "    plt.ylabel('Mean Z-score')\n",
    "    plt.xlabel('Indicators')\n",
    "    plt.xticks(rotation=45, ha='right')\n",
    "    plt.legend(title='Cluster Color')\n",
    "    plt.tight_layout()\n",
    "    plt.show()\n",
    "\n",
    "# Run both plots\n",
    "plot_radar(grouped_df)\n",
    "plot_bar(grouped_df)\n"
   ]
  },
  {
   "cell_type": "code",
   "execution_count": null,
   "id": "72479a49-0cf0-444f-b79a-5a1fd21da688",
   "metadata": {},
   "outputs": [],
   "source": [
    "grouped_df.head()"
   ]
  },
  {
   "attachments": {},
   "cell_type": "markdown",
   "id": "7051b04d-4824-4860-b649-ce21679eae26",
   "metadata": {},
   "source": [
    "#### Observations from the K-Means Unsupervised Method\n",
    "The elbow method indicated that the optimal number of clusters is k = 5. However, for simplicity and easier interpretation of the cluster plots, using four clusters could also be considered. While this reduces complexity, it may slightly decrease the analytical precision.\n",
    "\n",
    "Two sets of cluster plots were created to explore the relationships across the five clusters. These visualizations show patterns between Healthcare Access vs. Median Income (which reveals a clearer linear trend) and Healthcare Access vs. Exercise Access.\n",
    "\n",
    "Given that the dataset is clean and reliable, mean values were used to construct the cluster profile table. This table summarizes the dimensions of each cluster. In addition, a correlation matrix was generated based on cluster means, revealing consistent relationships between several indicators.\n",
    "\n",
    "To visually characterize each cluster, radar and bar charts were extremely effective and intuitive. The radar charts illustrated the overall shape and strengths of each cluster across all indicators, while the bar charts offered a clear, side-by-side comparison. Together, these visual tools made the cluster profiles easy to understand and communicate.\n",
    "\n",
    "To visually characterize each cluster, radar and bar charts were extremely effective and intuitive. The radar charts illustrated the overall shape and strengths of each cluster across all indicators, while the bar charts offered a clear, side-by-side comparison. Together, these visual tools made the cluster profiles easy to understand and communicate.\n",
    "\n",
    "| **Variables (correlation with Healthcare Access Score)** | **Corr. (Supervised Regression)** | **Corr. (Unsupervised K-Means)** |\n",
    "| -------------------------------------------------------- | -------------------------------- | --------------------------------- |\n",
    "| Median Income                                            | 0.42                             | 0.85                              |\n",
    "| Exercise Access                                          | 0.55                             | 0.99                              |\n",
    "| Food Insecurity                                          | -0.31                            | -0.69                             |\n",
    "| Uninsured                                                | -0.38                            | -0.65                             |\n",
    "| Child Poverty                                            | -0.37                            | -0.71                             |\n",
    "| Unemployment                                             | -0.07                            | -0.27                             |\n",
    "| Income Inequality                                        | -0.02                            | -0.46                             |\n",
    "| Diversity Index                                          | 0.09                             | 0.09                              |\n",
    "\n",
    "\n",
    "\n",
    "#### Clusters' characteristics\n",
    "\n",
    "🔴 Red Cluster – High Risk, Underserved\n",
    "The Red Cluster represents the most vulnerable counties in the dataset. These areas are marked by deep socioeconomic challenges, including widespread child poverty, high unemployment, and elevated levels of food insecurity and income inequality. Residents in these counties typically experience the lowest median incomes and severely limited access to healthcare services. This cluster reflects communities in urgent need of targeted support and policy intervention.\n",
    "\n",
    "🟩 Green Cluster – Prosperous & Well-Served\n",
    "The Green Cluster represents high-performing counties across the United States. These areas stand out for their strong socioeconomic and health profiles, with notably high median incomes, excellent healthcare access, and widespread exercise opportunities. Additionally, they exhibit low rates of food insecurity, child poverty, and uninsured individuals. Overall, this cluster reflects well-resourced communities with strong infrastructure and access to essential services—making them clear leaders in terms of community well-being.\n",
    "\n",
    "🟧 Orange Cluster – Underinsured but Not Poor\n",
    "The Orange Cluster includes counties where residents may not be economically deprived but still face serious gaps in healthcare access. These areas are defined by high uninsured rates and below-average healthcare access, despite having relatively modest income levels. The population may include working individuals without employer-sponsored insurance, possibly reflecting communities with large informal labor sectors or high immigrant populations.\n",
    "\n",
    "🟣 Purple Cluster – Working-Age Unstable\n",
    "The Purple Cluster is made up of counties with a mixed profile. While not facing the extremes seen in the Red Cluster, these areas still struggle with pockets of economic instability. They tend to have higher-than-average unemployment and moderately low income levels. These communities may represent younger or more diverse working-class populations navigating financial uncertainty, with uneven access to resources.\n",
    "\n",
    "🔵 Blue Cluster – Balanced, Slightly Struggling\n",
    "The Blue Cluster captures counties that fall near the average across most indicators. These areas show slightly lower income levels and healthcare access, but don’t display severe disadvantages. They may represent transitional or mid-tier communities—neither thriving nor in crisis—making them a useful reference point for evaluating broader trends.\n"
   ]
  },
  {
   "cell_type": "markdown",
   "id": "74599875-dc4a-49b4-a61b-98492cfdec10",
   "metadata": {},
   "source": [
    "#### Conclusion: \n",
    "\n",
    "Based on the analysis using both supervised regression and unsupervised K-means clustering, the findings suggest meaningful patterns in the relationship between key socioeconomic factors and healthcare access across U.S. counties.\n",
    "\n",
    "However, to strengthen the validity of the patterns observed through unsupervised machine learning, additional statistical methods may be necessary. While the current results suggest a weak to moderate positive relationship between key variables and healthcare access, further testing could help raise the confidence level in the alternative hypothesis and potentially reveal a strong positive relationship. Incorporating additional predictors—such as educational attainment, healthcare provider density, or regional policy factors—could also enhance the model's explanatory power and provide a more comprehensive understanding of the determinants of healthcare access.\n",
    "\n",
    "#### Current Hypothesis\n",
    "#### Null Hypothesis (H₀):\n",
    "There is no statistically significant relationship between median income, exercise access, food insecurity, or regional healthcare access.\n",
    "\n",
    "#### Alternative Hypothesis (H₁):\n",
    "There is a statistically weak to moderate positive relationship between Median income and exercise access and overall healthcare access across all counties of US."
   ]
  }
 ],
 "metadata": {
  "kernelspec": {
   "display_name": "Python 3 (ipykernel)",
   "language": "python",
   "name": "python3"
  },
  "language_info": {
   "codemirror_mode": {
    "name": "ipython",
    "version": 3
   },
   "file_extension": ".py",
   "mimetype": "text/x-python",
   "name": "python",
   "nbconvert_exporter": "python",
   "pygments_lexer": "ipython3",
   "version": "3.12.2"
  }
 },
 "nbformat": 4,
 "nbformat_minor": 5
}
